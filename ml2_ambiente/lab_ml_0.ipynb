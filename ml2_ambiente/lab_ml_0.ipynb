{
 "cells": [
  {
   "cell_type": "code",
   "execution_count": 2,
   "metadata": {},
   "outputs": [
    {
     "name": "stdout",
     "output_type": "stream",
     "text": [
      "Galinha 1: Tem bico: Sim, Risco de extinção: Não, Faz 'cocoricó': Sim, Idade: 2 anos, Tipo de Ração: ração padrão\n",
      "Galinha 2: Tem bico: Sim, Risco de extinção: Não, Faz 'cocoricó': Sim, Idade: 1 anos, Tipo de Ração: ração orgânica\n",
      "Galinha 3: Tem bico: Sim, Risco de extinção: Sim, Faz 'cocoricó': Sim, Idade: 3 anos, Tipo de Ração: ração premium\n"
     ]
    }
   ],
   "source": [
    "galinhas = {\n",
    "    \"Galinha 1\": {\n",
    "        \"tem_bico\": True,\n",
    "        \"risco_extincao\": False,\n",
    "        \"faz_cocorico\": True,\n",
    "        \"idade\": 2,  # em anos\n",
    "        \"tipo_racao\": \"ração padrão\"\n",
    "    },\n",
    "    \"Galinha 2\": {\n",
    "        \"tem_bico\": True,\n",
    "        \"risco_extincao\": False,\n",
    "        \"faz_cocorico\": True,\n",
    "        \"idade\": 1,\n",
    "        \"tipo_racao\": \"ração orgânica\"\n",
    "    },\n",
    "    \"Galinha 3\": {\n",
    "        \"tem_bico\": True,\n",
    "        \"risco_extincao\": True,\n",
    "        \"faz_cocorico\": True,\n",
    "        \"idade\": 3,\n",
    "        \"tipo_racao\": \"ração premium\"\n",
    "    }\n",
    "}\n",
    "\n",
    "def mostrar_informacoes(galinha):\n",
    "    informacoes = []\n",
    "    informacoes.append(f\"Tem bico: {'Sim' if galinha['tem_bico'] else 'Não'}\")\n",
    "    informacoes.append(f\"Risco de extinção: {'Sim' if galinha['risco_extincao'] else 'Não'}\")\n",
    "    informacoes.append(f\"Faz 'cocoricó': {'Sim' if galinha['faz_cocorico'] else 'Não'}\")\n",
    "    informacoes.append(f\"Idade: {galinha['idade']} anos\")\n",
    "    informacoes.append(f\"Tipo de Ração: {galinha['tipo_racao']}\")\n",
    "    return \", \".join(informacoes)\n",
    "\n",
    "for nome, info in galinhas.items():\n",
    "    print(f\"{nome}: {mostrar_informacoes(info)}\")\n",
    "\n"
   ]
  }
 ],
 "metadata": {
  "kernelspec": {
   "display_name": "ml_ambiente",
   "language": "python",
   "name": "python3"
  },
  "language_info": {
   "codemirror_mode": {
    "name": "ipython",
    "version": 3
   },
   "file_extension": ".py",
   "mimetype": "text/x-python",
   "name": "python",
   "nbconvert_exporter": "python",
   "pygments_lexer": "ipython3",
   "version": "3.12.6"
  }
 },
 "nbformat": 4,
 "nbformat_minor": 2
}
